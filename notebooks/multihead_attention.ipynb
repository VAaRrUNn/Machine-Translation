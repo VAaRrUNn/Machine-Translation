{
 "cells": [
  {
   "cell_type": "code",
   "execution_count": 1,
   "metadata": {},
   "outputs": [
    {
     "data": {
      "text/plain": [
       "<torch._C.Generator at 0x17c173d1cd0>"
      ]
     },
     "execution_count": 1,
     "metadata": {},
     "output_type": "execute_result"
    }
   ],
   "source": [
    "import numpy as np\n",
    "import torch \n",
    "import torch.nn as nn \n",
    "import torch.nn.functional as F\n",
    "import matplotlib.pyplot as plt\n",
    "\n",
    "np.random.seed(41)\n",
    "torch.manual_seed(41)"
   ]
  },
  {
   "cell_type": "code",
   "execution_count": 2,
   "metadata": {},
   "outputs": [
    {
     "name": "stdout",
     "output_type": "stream",
     "text": [
      "size of x: torch.Size([1, 4, 512])\n"
     ]
    }
   ],
   "source": [
    "sen_len = 4\n",
    "batch_size = 1\n",
    "input_dim = 512\n",
    "d_model = 512\n",
    "x = torch.randn((batch_size, sen_len, input_dim))\n",
    "print(f\"size of x: {x.shape}\")"
   ]
  },
  {
   "cell_type": "code",
   "execution_count": 3,
   "metadata": {},
   "outputs": [
    {
     "data": {
      "text/plain": [
       "(torch.Size([1, 4, 512]), torch.Size([1, 4, 1536]))"
      ]
     },
     "execution_count": 3,
     "metadata": {},
     "output_type": "execute_result"
    }
   ],
   "source": [
    "qkv_layer = nn.Linear(input_dim, input_dim * 3)\n",
    "qkv = qkv_layer(x)\n",
    "x.shape,qkv.shape"
   ]
  },
  {
   "cell_type": "code",
   "execution_count": 4,
   "metadata": {},
   "outputs": [
    {
     "data": {
      "image/png": "[encoded data removed]",
      "text/plain": [
       "<Figure size 640x480 with 1 Axes>"
      ]
     },
     "metadata": {},
     "output_type": "display_data"
    }
   ],
   "source": [
    "y_val = torch.histc(qkv, bins=200, min=-3, max=3)\n",
    "x_val = np.linspace(-3, 3, 200)\n",
    "plt.bar(x_val, y_val, align=\"center\", color=[\"forestgreen\"])\n",
    "plt.title(\"qkv distribution\");"
   ]
  },
  {
   "cell_type": "markdown",
   "metadata": {},
   "source": [
    "## Actual breaking down of heads\n",
    "\n",
    "We are reshaping then permuting it.... Well we can simply skip the steps and do only 1 reshape, but it's done for more clarity of the computations."
   ]
  },
  {
   "cell_type": "code",
   "execution_count": 5,
   "metadata": {},
   "outputs": [
    {
     "name": "stdout",
     "output_type": "stream",
     "text": [
      "Original qkv torch.Size([1, 4, 1536])\n",
      "Adter transforming qkv torch.Size([1, 4, 8, 192])\n"
     ]
    }
   ],
   "source": [
    "n_head = 8\n",
    "head_dim = d_model// n_head\n",
    "print(f\"Original qkv {qkv.shape}\")\n",
    "n_qkv = qkv.reshape(batch_size, sen_len, n_head, 3*head_dim)\n",
    "print(f\"Adter transforming qkv {n_qkv.shape}\")"
   ]
  },
  {
   "cell_type": "markdown",
   "metadata": {},
   "source": [
    "Now permuting to perform the actual calculations,\n",
    "We could have directly achieved this by simply reshaping to this size, but for more clarity of how the heads are calculated and computed this is done, which means both the approaches are same (essentially)"
   ]
  },
  {
   "cell_type": "code",
   "execution_count": 6,
   "metadata": {},
   "outputs": [],
   "source": [
    "n_qkv = n_qkv.permute(0, 2, 1, 3)"
   ]
  },
  {
   "cell_type": "code",
   "execution_count": 7,
   "metadata": {},
   "outputs": [
    {
     "data": {
      "text/plain": [
       "torch.Size([1, 8, 4, 64])"
      ]
     },
     "execution_count": 7,
     "metadata": {},
     "output_type": "execute_result"
    }
   ],
   "source": [
    "q, k, v = n_qkv.chunk(3, dim=-1)\n",
    "q.shape"
   ]
  },
  {
   "cell_type": "markdown",
   "metadata": {},
   "source": [
    "## Attention for Encoder"
   ]
  },
  {
   "cell_type": "code",
   "execution_count": 8,
   "metadata": {},
   "outputs": [
    {
     "data": {
      "text/plain": [
       "(torch.Size([1, 8, 4, 4]),\n",
       " tensor([[0.1948, 0.1928, 0.2872, 0.3253],\n",
       "         [0.2100, 0.3209, 0.2571, 0.2120],\n",
       "         [0.2078, 0.2499, 0.3382, 0.2041],\n",
       "         [0.1438, 0.3906, 0.2483, 0.2172]], grad_fn=<SelectBackward0>))"
      ]
     },
     "execution_count": 8,
     "metadata": {},
     "output_type": "execute_result"
    }
   ],
   "source": [
    "d_k = torch.tensor(q.shape[-1])\n",
    "att = (q @ k.transpose(-2, -1))/ torch.sqrt(d_k)\n",
    "e_att = F.softmax(att, dim=-1)\n",
    "att.shape, e_att[0][0]"
   ]
  },
  {
   "cell_type": "markdown",
   "metadata": {},
   "source": [
    "## Attention for Decoder\n",
    "\n",
    "We essentially have to make n_head masks.\n",
    "The below code does that"
   ]
  },
  {
   "cell_type": "code",
   "execution_count": 9,
   "metadata": {},
   "outputs": [
    {
     "name": "stdout",
     "output_type": "stream",
     "text": [
      "Shape of mask: torch.Size([1, 8, 4, 4])\n",
      "Before: \n",
      "tensor([[-inf, -inf, -inf, -inf],\n",
      "        [-inf, -inf, -inf, -inf],\n",
      "        [-inf, -inf, -inf, -inf],\n",
      "        [-inf, -inf, -inf, -inf]])\n",
      "After: \n",
      "tensor([[0., -inf, -inf, -inf],\n",
      "        [0., 0., -inf, -inf],\n",
      "        [0., 0., 0., -inf],\n",
      "        [0., 0., 0., 0.]])\n"
     ]
    },
    {
     "data": {
      "text/plain": [
       "tensor([[1.0000, 0.0000, 0.0000, 0.0000],\n",
       "        [0.3956, 0.6044, 0.0000, 0.0000],\n",
       "        [0.2611, 0.3140, 0.4250, 0.0000],\n",
       "        [0.1438, 0.3906, 0.2483, 0.2172]], grad_fn=<SelectBackward0>)"
      ]
     },
     "execution_count": 9,
     "metadata": {},
     "output_type": "execute_result"
    }
   ],
   "source": [
    "mask = torch.full(att.size(), float('-inf'))\n",
    "print(f\"Shape of mask: {mask.shape}\")\n",
    "print(\"Before: \")\n",
    "print(mask[0][0])\n",
    "mask = torch.triu(mask, diagonal=1)\n",
    "print(\"After: \")\n",
    "print(mask[0][0])\n",
    "\n",
    "d_att = att + mask\n",
    "d_att = F.softmax(d_att, dim=-1)\n",
    "d_att[0][0]"
   ]
  },
  {
   "cell_type": "markdown",
   "metadata": {},
   "source": [
    "## New Embeddings"
   ]
  },
  {
   "cell_type": "code",
   "execution_count": 10,
   "metadata": {},
   "outputs": [
    {
     "name": "stdout",
     "output_type": "stream",
     "text": [
      "Value: torch.Size([1, 8, 4, 64])\n",
      "Att: torch.Size([1, 8, 4, 4])\n"
     ]
    },
    {
     "data": {
      "text/plain": [
       "torch.Size([1, 8, 4, 64])"
      ]
     },
     "execution_count": 10,
     "metadata": {},
     "output_type": "execute_result"
    }
   ],
   "source": [
    "print(f\"Value: {v.shape}\")\n",
    "print(f\"Att: {e_att.shape}\")\n",
    "\n",
    "(e_att @ v).shape"
   ]
  },
  {
   "cell_type": "code",
   "execution_count": 11,
   "metadata": {},
   "outputs": [
    {
     "data": {
      "text/plain": [
       "(tensor([[ 0.8006, -0.6418, -0.1825, -0.4408],\n",
       "         [ 0.6390, -1.5435, -0.2133,  0.4794]]),\n",
       " tensor([[[ 0.8006, -0.6418],\n",
       "          [-0.1825, -0.4408]],\n",
       " \n",
       "         [[ 0.6390, -1.5435],\n",
       "          [-0.2133,  0.4794]]]))"
      ]
     },
     "execution_count": 11,
     "metadata": {},
     "output_type": "execute_result"
    }
   ],
   "source": [
    "a = torch.randn(2, 4)\n",
    "a, a.reshape(2, 2, 2)"
   ]
  },
  {
   "cell_type": "markdown",
   "metadata": {},
   "source": [
    "## Combining everything into a class"
   ]
  },
  {
   "cell_type": "code",
   "execution_count": 14,
   "metadata": {},
   "outputs": [
    {
     "name": "stdout",
     "output_type": "stream",
     "text": [
      "New emb: torch.Size([1, 8, 4, 64])\n",
      "New emb: torch.Size([1, 4, 512])\n"
     ]
    },
    {
     "data": {
      "text/plain": [
       "(torch.Size([1, 8, 4, 4]), torch.Size([1, 4, 512]))"
      ]
     },
     "execution_count": 14,
     "metadata": {},
     "output_type": "execute_result"
    }
   ],
   "source": [
    "class MultiHeadAttention(nn.Module):\n",
    "    def __init__(self,\n",
    "                 input_dim: int,\n",
    "                 d_model: int,\n",
    "                 n_head: int):\n",
    "        super().__init__()\n",
    "        self.input_dim = input_dim\n",
    "        self.d_model = d_model\n",
    "        self.n_head = n_head\n",
    "        self.h_dim = d_model // n_head\n",
    "        self.qkv_layer = nn.Linear(input_dim, 3 * d_model)\n",
    "        self.linear_layer = nn.Linear(d_model, d_model)\n",
    "\n",
    "    def forward(self,\n",
    "                x: torch.tensor,\n",
    "                mask: torch.tensor = None):\n",
    "        B, sen_len, input_dim = x.size()\n",
    "        qkv = self.qkv_layer(x) # B, sen_len, 3 * d_model\n",
    "        qkv = qkv.reshape(B, sen_len, self.n_head, self.h_dim * 3)\n",
    "        qkv = qkv.permute(0, 2, 1, 3)\n",
    "        q, k, v = qkv.chunk(3, dim=-1)\n",
    "        d_k = q.size()[-1]\n",
    "        att = (q @ k.transpose(-2, -1))/ torch.sqrt(torch.tensor(d_k))\n",
    "        if mask is not None:\n",
    "            att += mask\n",
    "        att = F.softmax(att, dim=-1)\n",
    "        new_emb = att @ v\n",
    "        print(f\"New emb: {new_emb.shape}\")\n",
    "        new_emb = new_emb.reshape(B, sen_len, self.n_head * self.h_dim)\n",
    "        print(f\"New emb: {new_emb.shape}\")\n",
    "        new_emb = self.linear_layer(new_emb)\n",
    "        return att, new_emb\n",
    "        \n",
    "mb = MultiHeadAttention(input_dim=512,\n",
    "                        d_model=512,\n",
    "                        n_head=8)\n",
    "a = torch.randn((1, 4, 512))\n",
    "att, new_emb = mb(a)\n",
    "att.shape, new_emb.shape"
   ]
  },
  {
   "cell_type": "code",
   "execution_count": null,
   "metadata": {},
   "outputs": [],
   "source": []
  },
  {
   "cell_type": "code",
   "execution_count": null,
   "metadata": {},
   "outputs": [],
   "source": []
  },
  {
   "cell_type": "code",
   "execution_count": null,
   "metadata": {},
   "outputs": [],
   "source": []
  }
 ],
 "metadata": {
  "kernelspec": {
   "display_name": "ds",
   "language": "python",
   "name": "python3"
  },
  "language_info": {
   "codemirror_mode": {
    "name": "ipython",
    "version": 3
   },
   "file_extension": ".py",
   "mimetype": "text/x-python",
   "name": "python",
   "nbconvert_exporter": "python",
   "pygments_lexer": "ipython3",
   "version": "3.10.12"
  }
 },
 "nbformat": 4,
 "nbformat_minor": 2
}
