{
 "cells": [
  {
   "cell_type": "code",
   "execution_count": 27,
   "metadata": {},
   "outputs": [
    {
     "data": {
      "text/plain": [
       "<torch._C.Generator at 0x2d049b65d30>"
      ]
     },
     "execution_count": 27,
     "metadata": {},
     "output_type": "execute_result"
    }
   ],
   "source": [
    "import torch \n",
    "import torch.nn as nn\n",
    "torch.manual_seed(41)"
   ]
  },
  {
   "cell_type": "code",
   "execution_count": 28,
   "metadata": {},
   "outputs": [
    {
     "name": "stdout",
     "output_type": "stream",
     "text": [
      "torch.Size([1, 2, 3])\n"
     ]
    },
    {
     "data": {
      "text/plain": [
       "torch.Size([2, 1, 3])"
      ]
     },
     "execution_count": 28,
     "metadata": {},
     "output_type": "execute_result"
    }
   ],
   "source": [
    "inputs = torch.tensor([[[0.2, 0.1, 0.3], [0.5, 0.1, 0.1]]])\n",
    "print(inputs.size())\n",
    "B, S, E = inputs.size()\n",
    "inputs = inputs.reshape(S, B, E)\n",
    "inputs.size()"
   ]
  },
  {
   "cell_type": "code",
   "execution_count": 29,
   "metadata": {},
   "outputs": [
    {
     "data": {
      "text/plain": [
       "(torch.Size([1, 3]), torch.Size([1, 3]), torch.Size([1, 3]))"
      ]
     },
     "execution_count": 29,
     "metadata": {},
     "output_type": "execute_result"
    }
   ],
   "source": [
    "parameter_shape = inputs.size()[-2:]\n",
    "gamma = nn.Parameter(torch.ones(parameter_shape))\n",
    "beta = nn.Parameter(torch.zeros(parameter_shape))\n",
    "gamma.shape, beta.shape, parameter_shape"
   ]
  },
  {
   "cell_type": "code",
   "execution_count": 35,
   "metadata": {},
   "outputs": [
    {
     "name": "stdout",
     "output_type": "stream",
     "text": [
      "Dims: [-1, -2]\n",
      "Inputs: torch.Size([2, 1, 3])\n",
      "Mean: torch.Size([2, 1, 1])\n",
      "Var: torch.Size([2, 1, 1])\n",
      "y: torch.Size([2, 1, 3])\n",
      "Gamma: torch.Size([1, 3])\n",
      "Beta: torch.Size([1, 3])\n",
      "Out: torch.Size([2, 1, 3])\n"
     ]
    }
   ],
   "source": [
    "dims = [-(i + 1) for i in range(len(parameter_shape))]\n",
    "print(f\"Dims: {dims}\")\n",
    "print(f\"Inputs: {inputs.shape}\")\n",
    "mean = torch.mean(inputs, dim=dims, keepdim=True)\n",
    "var = ((inputs - mean) ** 2).mean(dim=dims, keepdim=True)\n",
    "print(f\"Mean: {mean.shape}\")\n",
    "print(f\"Var: {var.shape}\")\n",
    "epsilon = 1e-5\n",
    "std = (var + epsilon).sqrt()\n",
    "y = (inputs - mean)/std\n",
    "print(f\"y: {y.shape}\")\n",
    "print(f\"Gamma: {gamma.shape}\")\n",
    "print(f\"Beta: {beta.shape}\")\n",
    "out = gamma * y + beta\n",
    "print(f\"Out: {out.shape}\")"
   ]
  },
  {
   "cell_type": "code",
   "execution_count": 34,
   "metadata": {},
   "outputs": [],
   "source": [
    "# a = torch.randn((3, 2, 4))\n",
    "# b = a.reshape(2, 3, 4)\n",
    "# a, b, "
   ]
  },
  {
   "cell_type": "code",
   "execution_count": 41,
   "metadata": {},
   "outputs": [
    {
     "name": "stdout",
     "output_type": "stream",
     "text": [
      "self\n",
      "parameter_shape\n",
      "eps\n",
      "__class__\n"
     ]
    }
   ],
   "source": [
    "class LayerNormalization(nn.Module):\n",
    "    def __init__(self,\n",
    "                 parameter_shape: torch.Size,\n",
    "                 eps: int = 1e-5):\n",
    "        super().__init__()\n",
    "        self.parameter_shape = parameter_shape\n",
    "        self.eps = eps\n",
    "        self.gamma = nn.Parameter(torch.ones(parameter_shape))\n",
    "        self.beta = nn.Parameter(torch.zeros(parameter_shape))\n",
    "\n",
    "        print(f\"Shapes are: \\n\")\n",
    "        print(f\"parameter_shape: {parameter_shape}\")\n",
    "        print(f\"parameter_shape: {parameter_shape}\")\n",
    "        print(f\"parameter_shape: {parameter_shape}\")\n",
    "    def forward(self, \n",
    "                x: torch.tensor) -> torch.tensor:\n",
    "        dims = [-(i + 1) for i in range(len(self.parameter_shape))]\n",
    "        mean = x.mean(dim=dims, keepdim=True)\n",
    "        var = ((x - mean) ** 2).mean(dim=dims, keepdim=True)\n",
    "        std = (var + self.eps).sqrt()\n",
    "        y = (inputs - mean)/std\n",
    "        out = self.gamma * y + self.beta\n",
    "        return out \n",
    "    \n",
    "\n",
    "        \n",
    "t = LayerNormalization(inputs.size()[-2:])"
   ]
  },
  {
   "cell_type": "code",
   "execution_count": null,
   "metadata": {},
   "outputs": [],
   "source": [
    "\n",
    "\n"
   ]
  },
  {
   "cell_type": "code",
   "execution_count": 57,
   "metadata": {},
   "outputs": [],
   "source": [
    "import torch\n",
    "from torch import nn\n",
    "\n",
    "class LayerNormalization():\n",
    "    def __init__(self, parameters_shape, eps=1e-5):\n",
    "        self.parameters_shape=parameters_shape\n",
    "        self.eps=eps\n",
    "        self.gamma = nn.Parameter(torch.ones(parameters_shape))\n",
    "        self.beta =  nn.Parameter(torch.zeros(parameters_shape))\n",
    "\n",
    "    def forward(self, input):\n",
    "        print(f\"input: {input.shape}\")\n",
    "        dims = [-(i + 1) for i in range(len(self.parameters_shape))]\n",
    "        mean = inputs.mean(dim=dims, keepdim=True)\n",
    "        print(f\"Mean \\n ({mean.size()}): \\n {mean.shape}\")\n",
    "        var = ((inputs - mean) ** 2).mean(dim=dims, keepdim=True)\n",
    "        std = (var + self.eps).sqrt()\n",
    "        print(f\"Standard Deviation \\n ({std.size()}): \\n {std.shape}\")\n",
    "        y = (inputs - mean) / std\n",
    "        print(f\"y \\n ({y.size()}) = \\n {y.shape}\")\n",
    "        out = self.gamma * y  + self.beta\n",
    "        print(f\"gamma: {self.gamma.shape}\")\n",
    "        print(f\"out \\n ({out.size()}) = \\n {out.shape}\")\n",
    "        return out"
   ]
  },
  {
   "cell_type": "code",
   "execution_count": 58,
   "metadata": {},
   "outputs": [
    {
     "name": "stdout",
     "output_type": "stream",
     "text": [
      "input: torch.Size([5, 3, 8])\n",
      "Mean \n",
      " (torch.Size([5, 3, 1])): \n",
      " torch.Size([5, 3, 1])\n",
      "Standard Deviation \n",
      " (torch.Size([5, 3, 1])): \n",
      " torch.Size([5, 3, 1])\n",
      "y \n",
      " (torch.Size([5, 3, 8])) = \n",
      " torch.Size([5, 3, 8])\n",
      "gamma: torch.Size([8])\n",
      "out \n",
      " (torch.Size([5, 3, 8])) = \n",
      " torch.Size([5, 3, 8])\n"
     ]
    }
   ],
   "source": [
    "batch_size = 3\n",
    "sentence_length = 5\n",
    "embedding_dim = 8 \n",
    "inputs = torch.randn(sentence_length, batch_size, embedding_dim)\n",
    "\n",
    "# print(f\"input \\n ({inputs.size()}) = \\n {inputs}\")\n",
    "layer_norm = LayerNormalization(inputs.size()[-1:])\n",
    "out = layer_norm.forward(inputs)"
   ]
  },
  {
   "cell_type": "code",
   "execution_count": null,
   "metadata": {},
   "outputs": [],
   "source": []
  },
  {
   "cell_type": "code",
   "execution_count": null,
   "metadata": {},
   "outputs": [],
   "source": []
  },
  {
   "cell_type": "code",
   "execution_count": null,
   "metadata": {},
   "outputs": [],
   "source": []
  },
  {
   "cell_type": "code",
   "execution_count": null,
   "metadata": {},
   "outputs": [],
   "source": []
  }
 ],
 "metadata": {
  "kernelspec": {
   "display_name": "ds",
   "language": "python",
   "name": "python3"
  },
  "language_info": {
   "codemirror_mode": {
    "name": "ipython",
    "version": 3
   },
   "file_extension": ".py",
   "mimetype": "text/x-python",
   "name": "python",
   "nbconvert_exporter": "python",
   "pygments_lexer": "ipython3",
   "version": "3.10.12"
  }
 },
 "nbformat": 4,
 "nbformat_minor": 2
}
